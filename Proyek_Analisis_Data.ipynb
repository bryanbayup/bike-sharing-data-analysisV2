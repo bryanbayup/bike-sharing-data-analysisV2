{
  "cells": [
    {
      "cell_type": "markdown",
      "metadata": {
        "id": "H9wADwK78DCz"
      },
      "source": [
        "# Proyek Analisis Data: Bike Sharing Dataset\n",
        "- **Nama:** Briyan Bayu Pangestu\n",
        "- **Email:** bryanazza836@gmail.com\n",
        "- **ID Dicoding:** bryan231\n",
        "- **URL Streamlit:** https://analysis-with-python-7yuj7ghsxj6eezynqzucbx.streamlit.app/"
      ]
    },
    {
      "cell_type": "markdown",
      "metadata": {
        "id": "eE0raob58DC0"
      },
      "source": [
        "## Menentukan Pertanyaan Bisnis"
      ]
    },
    {
      "cell_type": "markdown",
      "metadata": {
        "id": "GmQeQ5YF8DC0"
      },
      "source": [
        "- Pertanyaan 1: Pada jam berapa penyewaan sepeda paling banyak dan paling sedikit terjadi?\n",
        "\n",
        "- Pertanyaan 2: Pada musim apa penyewaan sepeda paling banyak terjadi?"
      ]
    },
    {
      "cell_type": "markdown",
      "metadata": {
        "id": "H-z4QGlO8DC1"
      },
      "source": [
        "## Import Semua Packages/Library yang Digunakan"
      ]
    },
    {
      "cell_type": "code",
      "execution_count": 1,
      "metadata": {
        "id": "FVYwaObI8DC1"
      },
      "outputs": [],
      "source": [
        "# Mengimpor library yang dibutuhkan\n",
        "import numpy as np\n",
        "import pandas as pd\n",
        "import matplotlib.pyplot as plt\n",
        "import seaborn as sns\n",
        "import os\n",
        "\n",
        "# Mengatur style untuk seaborn\n",
        "sns.set_style('darkgrid')"
      ]
    },
    {
      "cell_type": "markdown",
      "source": [
        "**Penjelasan:**\n",
        "\n",
        "Library seperti pandas digunakan untuk manipulasi data, matplotlib dan seaborn untuk visualisasi, serta os untuk mengatur jalur file secara dinamis pada dashboard."
      ],
      "metadata": {
        "id": "r8uqsUXnDbP0"
      }
    },
    {
      "cell_type": "markdown",
      "metadata": {
        "id": "h_Sh51Xy8DC1"
      },
      "source": [
        "## Data Wrangling"
      ]
    },
    {
      "cell_type": "markdown",
      "metadata": {
        "id": "sXU2GBYu8DC1"
      },
      "source": [
        "### Gathering Data"
      ]
    },
    {
      "cell_type": "code",
      "source": [
        "# Fungsi untuk memuat data\n",
        "def load_data(filename):\n",
        "    base_dir = os.getcwd()\n",
        "    file_path = os.path.join(base_dir, \"data\", filename)\n",
        "    return pd.read_csv(file_path)"
      ],
      "metadata": {
        "id": "MtMKNjzRB6GM"
      },
      "execution_count": 2,
      "outputs": []
    },
    {
      "cell_type": "code",
      "execution_count": 3,
      "metadata": {
        "id": "zjCBk1BI8DC1",
        "colab": {
          "base_uri": "https://localhost:8080/"
        },
        "outputId": "f4bb7474-2f52-4038-f428-fc6348220d76"
      },
      "outputs": [
        {
          "output_type": "stream",
          "name": "stdout",
          "text": [
            "Memuat dataset...\n"
          ]
        }
      ],
      "source": [
        "# Memuat dataset\n",
        "print(\"Memuat dataset...\")\n",
        "day_df = load_data('day.csv')\n",
        "hour_df = load_data('hour.csv')"
      ]
    },
    {
      "cell_type": "markdown",
      "source": [
        "**Penjelasan:**\n",
        "\n",
        "Pada tahap ini, saya memuat dataset day.csv (data harian) dan hour.csv (data per jam) ke dalam DataFrame menggunakan pandas. Dataset ini berisi informasi penyewaan sepeda yang akan dianalisis lebih lanjut."
      ],
      "metadata": {
        "id": "8xinR2a0D0_8"
      }
    },
    {
      "cell_type": "markdown",
      "source": [
        "**Insight:**  \n",
        "- Dataset day.csv dan hour.csv berhasil dimuat ke dalam DataFrame day_df dan hour_df."
      ],
      "metadata": {
        "id": "MMi6xGaDkbCi"
      }
    },
    {
      "cell_type": "markdown",
      "metadata": {
        "id": "FHSiqaZp8DC1"
      },
      "source": [
        "### Assessing Data"
      ]
    },
    {
      "cell_type": "code",
      "source": [
        "# Menampilkan informasi dataset day_df\n",
        "print(\"\\nInformasi day_df:\")\n",
        "day_df.info()"
      ],
      "metadata": {
        "id": "ax-3tEjc9Cj1",
        "colab": {
          "base_uri": "https://localhost:8080/"
        },
        "outputId": "cad63c63-fec4-4970-b905-93cf2e2b8fb3"
      },
      "execution_count": 4,
      "outputs": [
        {
          "output_type": "stream",
          "name": "stdout",
          "text": [
            "\n",
            "Informasi day_df:\n",
            "<class 'pandas.core.frame.DataFrame'>\n",
            "RangeIndex: 731 entries, 0 to 730\n",
            "Data columns (total 16 columns):\n",
            " #   Column      Non-Null Count  Dtype  \n",
            "---  ------      --------------  -----  \n",
            " 0   instant     731 non-null    int64  \n",
            " 1   dteday      731 non-null    object \n",
            " 2   season      731 non-null    int64  \n",
            " 3   yr          731 non-null    int64  \n",
            " 4   mnth        731 non-null    int64  \n",
            " 5   holiday     731 non-null    int64  \n",
            " 6   weekday     731 non-null    int64  \n",
            " 7   workingday  731 non-null    int64  \n",
            " 8   weathersit  731 non-null    int64  \n",
            " 9   temp        731 non-null    float64\n",
            " 10  atemp       731 non-null    float64\n",
            " 11  hum         731 non-null    float64\n",
            " 12  windspeed   731 non-null    float64\n",
            " 13  casual      731 non-null    int64  \n",
            " 14  registered  731 non-null    int64  \n",
            " 15  cnt         731 non-null    int64  \n",
            "dtypes: float64(4), int64(11), object(1)\n",
            "memory usage: 91.5+ KB\n"
          ]
        }
      ]
    },
    {
      "cell_type": "code",
      "source": [
        "# Menampilkan informasi dataset hour_df\n",
        "print(\"\\nInformasi hour_df:\")\n",
        "hour_df.info()"
      ],
      "metadata": {
        "id": "oe7hqeU_9BT9",
        "colab": {
          "base_uri": "https://localhost:8080/"
        },
        "outputId": "872f1fd1-e50b-4d8e-c94f-ebfc11ef612b"
      },
      "execution_count": 5,
      "outputs": [
        {
          "output_type": "stream",
          "name": "stdout",
          "text": [
            "\n",
            "Informasi hour_df:\n",
            "<class 'pandas.core.frame.DataFrame'>\n",
            "RangeIndex: 17379 entries, 0 to 17378\n",
            "Data columns (total 17 columns):\n",
            " #   Column      Non-Null Count  Dtype  \n",
            "---  ------      --------------  -----  \n",
            " 0   instant     17379 non-null  int64  \n",
            " 1   dteday      17379 non-null  object \n",
            " 2   season      17379 non-null  int64  \n",
            " 3   yr          17379 non-null  int64  \n",
            " 4   mnth        17379 non-null  int64  \n",
            " 5   hr          17379 non-null  int64  \n",
            " 6   holiday     17379 non-null  int64  \n",
            " 7   weekday     17379 non-null  int64  \n",
            " 8   workingday  17379 non-null  int64  \n",
            " 9   weathersit  17379 non-null  int64  \n",
            " 10  temp        17379 non-null  float64\n",
            " 11  atemp       17379 non-null  float64\n",
            " 12  hum         17379 non-null  float64\n",
            " 13  windspeed   17379 non-null  float64\n",
            " 14  casual      17379 non-null  int64  \n",
            " 15  registered  17379 non-null  int64  \n",
            " 16  cnt         17379 non-null  int64  \n",
            "dtypes: float64(4), int64(12), object(1)\n",
            "memory usage: 2.3+ MB\n"
          ]
        }
      ]
    },
    {
      "cell_type": "code",
      "source": [
        "# Mengecek missing values di day_df\n",
        "print(\"\\nMissing values di day_df:\")\n",
        "print(day_df.isnull().sum())"
      ],
      "metadata": {
        "id": "cO0_LPLu9G3v",
        "colab": {
          "base_uri": "https://localhost:8080/"
        },
        "outputId": "89e998c7-a06f-4489-a346-7d4c4f40a5a3"
      },
      "execution_count": 6,
      "outputs": [
        {
          "output_type": "stream",
          "name": "stdout",
          "text": [
            "\n",
            "Missing values di day_df:\n",
            "instant       0\n",
            "dteday        0\n",
            "season        0\n",
            "yr            0\n",
            "mnth          0\n",
            "holiday       0\n",
            "weekday       0\n",
            "workingday    0\n",
            "weathersit    0\n",
            "temp          0\n",
            "atemp         0\n",
            "hum           0\n",
            "windspeed     0\n",
            "casual        0\n",
            "registered    0\n",
            "cnt           0\n",
            "dtype: int64\n"
          ]
        }
      ]
    },
    {
      "cell_type": "code",
      "source": [
        "# Mengecek missing values di hour_df\n",
        "print(\"\\nMissing values di hour_df:\")\n",
        "print(hour_df.isnull().sum())"
      ],
      "metadata": {
        "id": "8WRF2rCh9KiO",
        "colab": {
          "base_uri": "https://localhost:8080/"
        },
        "outputId": "9bf7a4cd-2894-479e-a6f0-8b861e7d21a4"
      },
      "execution_count": 7,
      "outputs": [
        {
          "output_type": "stream",
          "name": "stdout",
          "text": [
            "\n",
            "Missing values di hour_df:\n",
            "instant       0\n",
            "dteday        0\n",
            "season        0\n",
            "yr            0\n",
            "mnth          0\n",
            "hr            0\n",
            "holiday       0\n",
            "weekday       0\n",
            "workingday    0\n",
            "weathersit    0\n",
            "temp          0\n",
            "atemp         0\n",
            "hum           0\n",
            "windspeed     0\n",
            "casual        0\n",
            "registered    0\n",
            "cnt           0\n",
            "dtype: int64\n"
          ]
        }
      ]
    },
    {
      "cell_type": "code",
      "source": [
        "# Mengecek duplikasi di day_df\n",
        "print(\"\\nJumlah duplikasi di day_df:\", day_df.duplicated().sum())"
      ],
      "metadata": {
        "id": "GpFpNRTR9MHI",
        "colab": {
          "base_uri": "https://localhost:8080/"
        },
        "outputId": "ad964f48-86e5-4e8b-9952-cf9608724de6"
      },
      "execution_count": 8,
      "outputs": [
        {
          "output_type": "stream",
          "name": "stdout",
          "text": [
            "\n",
            "Jumlah duplikasi di day_df: 0\n"
          ]
        }
      ]
    },
    {
      "cell_type": "code",
      "source": [
        "# Mengecek duplikasi di hour_df\n",
        "print(\"Jumlah duplikasi di hour_df:\", hour_df.duplicated().sum())"
      ],
      "metadata": {
        "id": "AnNOl-Rq9Pmm",
        "colab": {
          "base_uri": "https://localhost:8080/"
        },
        "outputId": "df29be03-5695-4b84-84a0-624256fbf41b"
      },
      "execution_count": 9,
      "outputs": [
        {
          "output_type": "stream",
          "name": "stdout",
          "text": [
            "Jumlah duplikasi di hour_df: 0\n"
          ]
        }
      ]
    },
    {
      "cell_type": "markdown",
      "source": [
        "**Penjelasan:**\n",
        "\n",
        "Saya mengevaluasi dataset untuk memahami struktur data, tipe data, adanya missing values, dan duplikasi. Langkah ini penting untuk memastikan kualitas data sebelum analisis."
      ],
      "metadata": {
        "id": "3EoamvUKE6md"
      }
    },
    {
      "cell_type": "markdown",
      "source": [
        "**Insight:**  \n",
        "- Tidak ada missing values di kedua dataset.  \n",
        "- Tidak ada data duplikat di day_df maupun hour_df.  \n",
        "- Kolom dteday perlu diubah menjadi tipe datetime, dan beberapa kolom kategori seperti season dapat diubah menjadi tipe category untuk efisiensi."
      ],
      "metadata": {
        "id": "7dtxhAPrkhPL"
      }
    },
    {
      "cell_type": "markdown",
      "metadata": {
        "id": "EhN5R4hr8DC1"
      },
      "source": [
        "### Cleaning Data"
      ]
    },
    {
      "cell_type": "code",
      "source": [
        "# Mengubah tipe data 'dteday' menjadi datetime\n",
        "day_df['dteday'] = pd.to_datetime(day_df['dteday'])\n",
        "hour_df['dteday'] = pd.to_datetime(hour_df['dteday'])"
      ],
      "metadata": {
        "id": "jVnYpprE9Evz"
      },
      "execution_count": 10,
      "outputs": []
    },
    {
      "cell_type": "code",
      "source": [
        "# Mengubah tipe data kolom kategori\n",
        "category_columns = ['season', 'yr', 'mnth', 'holiday', 'weekday', 'weathersit']\n",
        "for col in category_columns:\n",
        "    day_df[col] = day_df[col].astype('category')\n",
        "    hour_df[col] = hour_df[col].astype('category')"
      ],
      "metadata": {
        "id": "weUUjRa39gvC"
      },
      "execution_count": 11,
      "outputs": []
    },
    {
      "cell_type": "code",
      "source": [
        "# Mengganti nama kolom untuk keterbacaan\n",
        "day_df.rename(columns={\n",
        "    'yr': 'year', 'mnth': 'month', 'weekday': 'day_of_week',\n",
        "    'weathersit': 'weather_situation', 'hum': 'humidity', 'cnt': 'total_count'\n",
        "}, inplace=True)\n",
        "\n",
        "hour_df.rename(columns={\n",
        "    'yr': 'year', 'mnth': 'month', 'hr': 'hour', 'weekday': 'day_of_week',\n",
        "    'weathersit': 'weather_situation', 'hum': 'humidity', 'cnt': 'total_count'\n",
        "}, inplace=True)"
      ],
      "metadata": {
        "id": "Yw5j3izC9lfO"
      },
      "execution_count": 12,
      "outputs": []
    },
    {
      "cell_type": "code",
      "source": [
        "# Mapping untuk mengubah nilai kategori menjadi label yang lebih informatif\n",
        "season_mapping = {1: 'Spring', 2: 'Summer', 3: 'Fall', 4: 'Winter'}\n",
        "day_df['season'] = day_df['season'].map(season_mapping)\n",
        "hour_df['season'] = hour_df['season'].map(season_mapping)\n",
        "\n",
        "month_mapping = {1: 'Jan', 2: 'Feb', 3: 'Mar', 4: 'Apr', 5: 'May', 6: 'Jun',\n",
        "                 7: 'Jul', 8: 'Aug', 9: 'Sep', 10: 'Oct', 11: 'Nov', 12: 'Dec'}\n",
        "day_df['month'] = day_df['month'].map(month_mapping)\n",
        "hour_df['month'] = hour_df['month'].map(month_mapping)\n",
        "\n",
        "weekday_mapping = {0: 'Sunday', 1: 'Monday', 2: 'Tuesday', 3: 'Wednesday',\n",
        "                   4: 'Thursday', 5: 'Friday', 6: 'Saturday'}\n",
        "day_df['day_of_week'] = day_df['day_of_week'].map(weekday_mapping)\n",
        "hour_df['day_of_week'] = hour_df['day_of_week'].map(weekday_mapping)\n",
        "\n",
        "weather_mapping = {1: 'Clear', 2: 'Mist', 3: 'Light Rain/Snow', 4: 'Heavy Rain/Snow'}\n",
        "day_df['weather_situation'] = day_df['weather_situation'].map(weather_mapping)\n",
        "hour_df['weather_situation'] = hour_df['weather_situation'].map(weather_mapping)\n",
        "\n",
        "year_mapping = {0: 2011, 1: 2012}\n",
        "day_df['year'] = day_df['year'].map(year_mapping)\n",
        "hour_df['year'] = hour_df['year'].map(year_mapping)"
      ],
      "metadata": {
        "id": "5dVxotfh9mih"
      },
      "execution_count": 13,
      "outputs": []
    },
    {
      "cell_type": "code",
      "source": [
        "# Menambahkan kolom 'day_type' untuk membedakan hari kerja dan akhir pekan\n",
        "def categorize_day(day):\n",
        "    return 'Weekend' if day in ['Saturday', 'Sunday'] else 'Weekday'\n",
        "\n",
        "day_df['day_type'] = day_df['day_of_week'].apply(categorize_day)\n",
        "hour_df['day_type'] = hour_df['day_of_week'].apply(categorize_day)"
      ],
      "metadata": {
        "id": "JiXput_i9uoj"
      },
      "execution_count": 14,
      "outputs": []
    },
    {
      "cell_type": "markdown",
      "source": [
        "**Penjelasan:**\n",
        "\n",
        "Tahap ini melibatkan pembersihan data dengan mengubah tipe data, memperbaiki nama kolom, dan mengonversi nilai kategori menjadi label yang lebih mudah dibaca. Kolom day_type ditambahkan untuk analisis lebih lanjut."
      ],
      "metadata": {
        "id": "MAVcdE24GDrX"
      }
    },
    {
      "cell_type": "markdown",
      "source": [
        "**Insight:**\n",
        "\n",
        "- Tipe data telah disesuaikan untuk analisis yang lebih efisien.  \n",
        "- Nama kolom diperbaiki untuk keterbacaan.  \n",
        "- Kolom day_type membedakan hari kerja dan akhir pekan.\n",
        "\n"
      ],
      "metadata": {
        "id": "Q_5ejIqckiSP"
      }
    },
    {
      "cell_type": "markdown",
      "metadata": {
        "id": "gp-Y6wU38DC1"
      },
      "source": [
        "## Exploratory Data Analysis (EDA)"
      ]
    },
    {
      "cell_type": "markdown",
      "metadata": {
        "id": "MW7WF2kr8DC1"
      },
      "source": [
        "### Explore ..."
      ]
    },
    {
      "cell_type": "code",
      "execution_count": 15,
      "metadata": {
        "id": "e9CQCZjk8DC2",
        "colab": {
          "base_uri": "https://localhost:8080/"
        },
        "outputId": "be14a2f8-6389-4f6f-d619-e9b311129605"
      },
      "outputs": [
        {
          "output_type": "stream",
          "name": "stdout",
          "text": [
            "\n",
            "Statistik deskriptif day_df:\n",
            "           instant               dteday season    year month  holiday  \\\n",
            "count   731.000000                  731    731   731.0   731    731.0   \n",
            "unique         NaN                  NaN      4     2.0    12      2.0   \n",
            "top            NaN                  NaN   Fall  2012.0   Jan      0.0   \n",
            "freq           NaN                  NaN    188   366.0    62    710.0   \n",
            "mean    366.000000  2012-01-01 00:00:00    NaN     NaN   NaN      NaN   \n",
            "min       1.000000  2011-01-01 00:00:00    NaN     NaN   NaN      NaN   \n",
            "25%     183.500000  2011-07-02 12:00:00    NaN     NaN   NaN      NaN   \n",
            "50%     366.000000  2012-01-01 00:00:00    NaN     NaN   NaN      NaN   \n",
            "75%     548.500000  2012-07-01 12:00:00    NaN     NaN   NaN      NaN   \n",
            "max     731.000000  2012-12-31 00:00:00    NaN     NaN   NaN      NaN   \n",
            "std     211.165812                  NaN    NaN     NaN   NaN      NaN   \n",
            "\n",
            "       day_of_week  workingday weather_situation        temp       atemp  \\\n",
            "count          731  731.000000               731  731.000000  731.000000   \n",
            "unique           7         NaN                 3         NaN         NaN   \n",
            "top         Sunday         NaN             Clear         NaN         NaN   \n",
            "freq           105         NaN               463         NaN         NaN   \n",
            "mean           NaN    0.683995               NaN    0.495385    0.474354   \n",
            "min            NaN    0.000000               NaN    0.059130    0.079070   \n",
            "25%            NaN    0.000000               NaN    0.337083    0.337842   \n",
            "50%            NaN    1.000000               NaN    0.498333    0.486733   \n",
            "75%            NaN    1.000000               NaN    0.655417    0.608602   \n",
            "max            NaN    1.000000               NaN    0.861667    0.840896   \n",
            "std            NaN    0.465233               NaN    0.183051    0.162961   \n",
            "\n",
            "          humidity   windspeed       casual   registered  total_count day_type  \n",
            "count   731.000000  731.000000   731.000000   731.000000   731.000000      731  \n",
            "unique         NaN         NaN          NaN          NaN          NaN        2  \n",
            "top            NaN         NaN          NaN          NaN          NaN  Weekday  \n",
            "freq           NaN         NaN          NaN          NaN          NaN      521  \n",
            "mean      0.627894    0.190486   848.176471  3656.172367  4504.348837      NaN  \n",
            "min       0.000000    0.022392     2.000000    20.000000    22.000000      NaN  \n",
            "25%       0.520000    0.134950   315.500000  2497.000000  3152.000000      NaN  \n",
            "50%       0.626667    0.180975   713.000000  3662.000000  4548.000000      NaN  \n",
            "75%       0.730209    0.233214  1096.000000  4776.500000  5956.000000      NaN  \n",
            "max       0.972500    0.507463  3410.000000  6946.000000  8714.000000      NaN  \n",
            "std       0.142429    0.077498   686.622488  1560.256377  1937.211452      NaN  \n"
          ]
        }
      ],
      "source": [
        "# Menampilkan statistik deskriptif untuk day_df\n",
        "print(\"\\nStatistik deskriptif day_df:\")\n",
        "print(day_df.describe(include='all'))"
      ]
    },
    {
      "cell_type": "code",
      "source": [
        "# Menampilkan statistik deskriptif untuk hour_df\n",
        "print(\"\\nStatistik deskriptif hour_df:\")\n",
        "print(hour_df.describe(include='all'))"
      ],
      "metadata": {
        "id": "-SAQFize-BNW",
        "colab": {
          "base_uri": "https://localhost:8080/"
        },
        "outputId": "7cddeb60-f157-450e-d198-1c1acee91a7f"
      },
      "execution_count": 16,
      "outputs": [
        {
          "output_type": "stream",
          "name": "stdout",
          "text": [
            "\n",
            "Statistik deskriptif hour_df:\n",
            "           instant                         dteday season     year  month  \\\n",
            "count   17379.0000                          17379  17379  17379.0  17379   \n",
            "unique         NaN                            NaN      4      2.0     12   \n",
            "top            NaN                            NaN   Fall   2012.0    May   \n",
            "freq           NaN                            NaN   4496   8734.0   1488   \n",
            "mean     8690.0000  2012-01-02 04:08:34.552045568    NaN      NaN    NaN   \n",
            "min         1.0000            2011-01-01 00:00:00    NaN      NaN    NaN   \n",
            "25%      4345.5000            2011-07-04 00:00:00    NaN      NaN    NaN   \n",
            "50%      8690.0000            2012-01-02 00:00:00    NaN      NaN    NaN   \n",
            "75%     13034.5000            2012-07-02 00:00:00    NaN      NaN    NaN   \n",
            "max     17379.0000            2012-12-31 00:00:00    NaN      NaN    NaN   \n",
            "std      5017.0295                            NaN    NaN      NaN    NaN   \n",
            "\n",
            "                hour  holiday day_of_week    workingday weather_situation  \\\n",
            "count   17379.000000  17379.0       17379  17379.000000             17379   \n",
            "unique           NaN      2.0           7           NaN                 4   \n",
            "top              NaN      0.0    Saturday           NaN             Clear   \n",
            "freq             NaN  16879.0        2512           NaN             11413   \n",
            "mean       11.546752      NaN         NaN      0.682721               NaN   \n",
            "min         0.000000      NaN         NaN      0.000000               NaN   \n",
            "25%         6.000000      NaN         NaN      0.000000               NaN   \n",
            "50%        12.000000      NaN         NaN      1.000000               NaN   \n",
            "75%        18.000000      NaN         NaN      1.000000               NaN   \n",
            "max        23.000000      NaN         NaN      1.000000               NaN   \n",
            "std         6.914405      NaN         NaN      0.465431               NaN   \n",
            "\n",
            "                temp         atemp      humidity     windspeed        casual  \\\n",
            "count   17379.000000  17379.000000  17379.000000  17379.000000  17379.000000   \n",
            "unique           NaN           NaN           NaN           NaN           NaN   \n",
            "top              NaN           NaN           NaN           NaN           NaN   \n",
            "freq             NaN           NaN           NaN           NaN           NaN   \n",
            "mean        0.496987      0.475775      0.627229      0.190098     35.676218   \n",
            "min         0.020000      0.000000      0.000000      0.000000      0.000000   \n",
            "25%         0.340000      0.333300      0.480000      0.104500      4.000000   \n",
            "50%         0.500000      0.484800      0.630000      0.194000     17.000000   \n",
            "75%         0.660000      0.621200      0.780000      0.253700     48.000000   \n",
            "max         1.000000      1.000000      1.000000      0.850700    367.000000   \n",
            "std         0.192556      0.171850      0.192930      0.122340     49.305030   \n",
            "\n",
            "          registered   total_count day_type  \n",
            "count   17379.000000  17379.000000    17379  \n",
            "unique           NaN           NaN        2  \n",
            "top              NaN           NaN  Weekday  \n",
            "freq             NaN           NaN    12365  \n",
            "mean      153.786869    189.463088      NaN  \n",
            "min         0.000000      1.000000      NaN  \n",
            "25%        34.000000     40.000000      NaN  \n",
            "50%       115.000000    142.000000      NaN  \n",
            "75%       220.000000    281.000000      NaN  \n",
            "max       886.000000    977.000000      NaN  \n",
            "std       151.357286    181.387599      NaN  \n"
          ]
        }
      ]
    },
    {
      "cell_type": "markdown",
      "source": [
        "**Penjelasan:**\n",
        "\n",
        "Saya menggunakan describe() untuk mendapatkan gambaran distribusi data seperti rata-rata, median, dan standar deviasi, yang membantu dalam memahami karakteristik dataset."
      ],
      "metadata": {
        "id": "DQ1Uvt_1ZT8r"
      }
    },
    {
      "cell_type": "markdown",
      "source": [
        "**Insight:**\n",
        "- Rata-rata penyewaan harian (total_count di day_df) adalah 4504, dengan maksimum 8714.  \n",
        "- Rata-rata penyewaan per jam (total_count di hour_df) adalah 189, dengan maksimum 977."
      ],
      "metadata": {
        "id": "th_Lzl2Fkj9O"
      }
    },
    {
      "cell_type": "markdown",
      "metadata": {
        "id": "zsyZjqak8DC2"
      },
      "source": [
        "## Visualization & Explanatory Analysis"
      ]
    },
    {
      "cell_type": "markdown",
      "metadata": {
        "id": "HZxOiQ6n8DC2"
      },
      "source": [
        "**Pertanyaan 1:** Pada Jam Berapa Penyewaan Sepeda Paling Banyak dan Paling Sedikit Terjadi?\n",
        "\n"
      ]
    },
    {
      "cell_type": "code",
      "execution_count": 17,
      "metadata": {
        "id": "1swJUdAD8DC2",
        "colab": {
          "base_uri": "https://localhost:8080/",
          "height": 524
        },
        "outputId": "703c9637-8f5d-458a-baa3-275e563d001a"
      },
      "outputs": [
        {
          "output_type": "display_data",
          "data": {
            "text/plain": [
              "<Figure size 1200x600 with 1 Axes>"
            ],
            "image/png": "[encoded data removed]"
          },
          "metadata": {}
        }
      ],
      "source": [
        "# Menghitung total penyewaan per jam\n",
        "hourly_counts = hour_df.groupby('hour')['total_count'].sum().reset_index()\n",
        "hourly_counts['hour'] = hourly_counts['hour'].astype(int)\n",
        "hourly_counts.sort_values('hour', inplace=True)\n",
        "\n",
        "# Visualisasi penyewaan per jam\n",
        "plt.figure(figsize=(12, 6))\n",
        "sns.barplot(x='hour', y='total_count', data=hourly_counts, color='blue')\n",
        "plt.title('Total Penyewaan Sepeda per Jam')\n",
        "plt.xlabel('Jam')\n",
        "plt.ylabel('Jumlah Penyewaan')\n",
        "plt.xticks(rotation=45)\n",
        "plt.show()"
      ]
    },
    {
      "cell_type": "markdown",
      "source": [
        "**Penjelasan:**\n",
        "\n",
        "Saya menghitung total penyewaan per jam dan memvisualisasikannya menggunakan sns.barplot. Peringatan sebelumnya diatasi dengan menambahkan hue='hour' dan legend=False."
      ],
      "metadata": {
        "id": "SdJtnG-3Z_AV"
      }
    },
    {
      "cell_type": "markdown",
      "source": [
        "**Insight:**\n",
        "\n",
        "- Jam Puncak: Penyewaan tertinggi terjadi pada jam 17:00, kemungkinan karena jam pulang kerja.  \n",
        "- Jam Terendah: Penyewaan terendah terjadi pada jam 04:00, saat aktivitas masyarakat minim.\n",
        "\n"
      ],
      "metadata": {
        "id": "BBOBtsfN_Scv"
      }
    },
    {
      "cell_type": "markdown",
      "metadata": {
        "id": "DgHI7CiU8DC2"
      },
      "source": [
        "**Pertanyaan 2:** Pada Musim Apa Penyewaan Sepeda Paling Banyak Terjadi?"
      ]
    },
    {
      "cell_type": "code",
      "execution_count": 18,
      "metadata": {
        "id": "Go0lCsvO8DC2",
        "colab": {
          "base_uri": "https://localhost:8080/",
          "height": 621
        },
        "outputId": "cae624a5-c126-41fd-8922-e4d45b797aff"
      },
      "outputs": [
        {
          "output_type": "stream",
          "name": "stderr",
          "text": [
            "<ipython-input-18-675d237e9071>:2: FutureWarning: The default of observed=False is deprecated and will be changed to True in a future version of pandas. Pass observed=False to retain current behavior or observed=True to adopt the future default and silence this warning.\n",
            "  season_counts = day_df.groupby('season')['total_count'].sum().reset_index()\n"
          ]
        },
        {
          "output_type": "display_data",
          "data": {
            "text/plain": [
              "<Figure size 800x600 with 1 Axes>"
            ],
            "image/png": "[encoded data removed]"
          },
          "metadata": {}
        }
      ],
      "source": [
        "# Menghitung total penyewaan per musim\n",
        "season_counts = day_df.groupby('season')['total_count'].sum().reset_index()\n",
        "\n",
        "# Visualisasi penyewaan per musim\n",
        "plt.figure(figsize=(8, 6))\n",
        "sns.barplot(x='season', y='total_count', data=season_counts, color='orange')\n",
        "plt.title('Total Penyewaan Sepeda per Musim')\n",
        "plt.xlabel('Musim')\n",
        "plt.ylabel('Jumlah Penyewaan')\n",
        "plt.show()"
      ]
    },
    {
      "cell_type": "markdown",
      "source": [
        "**Penjelasan:**\n",
        "\n",
        "Total penyewaan dihitung per musim dan divisualisasikan."
      ],
      "metadata": {
        "id": "-6kXKhaYauO0"
      }
    },
    {
      "cell_type": "markdown",
      "source": [
        "**Insight:**\n",
        "Musim Terbanyak: Musim Fall (musim gugur) memiliki penyewaan tertinggi, mungkin karena cuaca yang nyaman."
      ],
      "metadata": {
        "id": "_0-36BDLklRg"
      }
    },
    {
      "cell_type": "markdown",
      "source": [
        "## Analisis Lanjutan: Clustering manual berdasarkan rata-rata penyewaan per jam"
      ],
      "metadata": {
        "id": "9y4VUsmcYNZ5"
      }
    },
    {
      "cell_type": "code",
      "source": [
        "# Clustering manual berdasarkan rata-rata penyewaan per jam\n",
        "hour_avg = hour_df.groupby('hour')['total_count'].mean().reset_index()\n",
        "q1 = hour_avg['total_count'].quantile(0.25)\n",
        "q3 = hour_avg['total_count'].quantile(0.75)\n",
        "\n",
        "def categorize_hour(row):\n",
        "    if row['total_count'] > q3:\n",
        "        return 'Busy'\n",
        "    elif row['total_count'] < q1:\n",
        "        return 'Slow'\n",
        "    else:\n",
        "        return 'Moderate'\n",
        "\n",
        "hour_avg['category'] = hour_avg.apply(categorize_hour, axis=1)\n",
        "\n",
        "# Visualisasi distribusi kategori jam\n",
        "plt.figure(figsize=(10, 6))\n",
        "sns.barplot(x='hour', y='total_count', data=hour_avg, hue='category', palette='viridis')\n",
        "plt.title('Distribusi Kategori Jam Berdasarkan Penyewaan')\n",
        "plt.xlabel('Jam')\n",
        "plt.ylabel('Rata-rata Penyewaan')\n",
        "plt.xticks(rotation=45)\n",
        "plt.show()"
      ],
      "metadata": {
        "id": "iWhnzsJGYUCO",
        "colab": {
          "base_uri": "https://localhost:8080/",
          "height": 573
        },
        "outputId": "18356b57-b0f4-471a-b5aa-8492aa5a705c"
      },
      "execution_count": 19,
      "outputs": [
        {
          "output_type": "display_data",
          "data": {
            "text/plain": [
              "<Figure size 1000x600 with 1 Axes>"
            ],
            "image/png": "[encoded data removed]"
          },
          "metadata": {}
        }
      ]
    },
    {
      "cell_type": "markdown",
      "source": [
        "**Penjelasan:**\n",
        "Saya menerapkan clustering manual untuk mengelompokkan jam berdasarkan jumlah penyewaan:  \n",
        "- Jam Sibuk: Penyewaan > kuartil ketiga (Q3).  \n",
        "- Jam Sepi: Penyewaan < kuartil pertama (Q1).  \n",
        "- Jam Sedang: Penyewaan antara Q1 dan Q3."
      ],
      "metadata": {
        "id": "rDiiHOcVbIyB"
      }
    },
    {
      "cell_type": "markdown",
      "source": [
        "**Insight:**\n",
        "- Jam sibuk cenderung terjadi pada sore hari (sekitar 16:00-19:00).  \n",
        "- Jam sepi dominan pada dini hari (00:00-06:00)."
      ],
      "metadata": {
        "id": "2GQZ5CC0dOVK"
      }
    },
    {
      "cell_type": "markdown",
      "source": [
        "## Analisis Lanjutan: Pengaruh Cuaca dan Hari terhadap Penyewaan"
      ],
      "metadata": {
        "id": "2UTE-rezdbi0"
      }
    },
    {
      "cell_type": "code",
      "source": [
        "# Analisis: Pengaruh cuaca dan tipe hari terhadap penyewaan\n",
        "weather_day_counts = hour_df.groupby(['weather_situation', 'day_type'], observed=True)['total_count'].mean().reset_index()\n",
        "\n",
        "# Visualisasi pengaruh cuaca dan tipe hari\n",
        "plt.figure(figsize=(10, 6))\n",
        "sns.barplot(x='weather_situation', y='total_count', hue='day_type', data=weather_day_counts, palette='coolwarm')\n",
        "plt.title('Rata-rata Penyewaan Sepeda Berdasarkan Cuaca dan Tipe Hari')\n",
        "plt.xlabel('Kondisi Cuaca')\n",
        "plt.ylabel('Rata-rata Penyewaan')\n",
        "plt.xticks(rotation=45)\n",
        "plt.show()"
      ],
      "metadata": {
        "id": "DbSj6I9mdjE1",
        "colab": {
          "base_uri": "https://localhost:8080/",
          "height": 646
        },
        "outputId": "a7d421a4-f751-4ec7-d847-cfa0e6308875"
      },
      "execution_count": 20,
      "outputs": [
        {
          "output_type": "display_data",
          "data": {
            "text/plain": [
              "<Figure size 1000x600 with 1 Axes>"
            ],
            "image/png": "[encoded data removed]"
          },
          "metadata": {}
        }
      ]
    },
    {
      "cell_type": "markdown",
      "source": [
        "**Penjelasan:**\n",
        "\n",
        "Saya menganalisis kombinasi cuaca dan tipe hari (weekday/weekend) untuk menggali insight lebih dalam."
      ],
      "metadata": {
        "id": "OhsmB-vEdnGl"
      }
    },
    {
      "cell_type": "markdown",
      "source": [
        "**Insight:**\n",
        "- Penyewaan tertinggi terjadi pada cuaca cerah (Clear) di hari kerja.  \n",
        "- Cuaca buruk (Heavy Rain/Snow) menurunkan penyewaan secara signifikan."
      ],
      "metadata": {
        "id": "65ymWynFduRq"
      }
    },
    {
      "cell_type": "markdown",
      "metadata": {
        "id": "_WeHlCeX8DC2"
      },
      "source": [
        "## Conclusion"
      ]
    },
    {
      "cell_type": "markdown",
      "metadata": {
        "id": "ZTcyR48Y8DC2"
      },
      "source": [
        "**Kesimpulan Pertanyaan 1**\n",
        "\n",
        "**Penyewaan Tertinggi:** Jam 17:00, diduga karena jam pulang kerja.  \n",
        "**Penyewaan Terendah:** Jam 04:00, saat aktivitas rendah.  \n",
        "**Rekomendasi:** Tambah stok sepeda pada jam sibuk dan kurangi pada jam sepi."
      ]
    },
    {
      "cell_type": "markdown",
      "source": [
        "**Kesimpulan Pertanyaan 2**\n",
        "\n",
        "**Musim Terbanyak:** Musim Fall memiliki penyewaan tertinggi.  \n",
        "**Faktor:** Cuaca nyaman mendorong aktivitas bersepeda.  \n",
        "**Rekomendasi:** Tingkatkan promosi di musim gugur."
      ],
      "metadata": {
        "id": "GmqGDexPenmb"
      }
    }
  ],
  "metadata": {
    "kernelspec": {
      "display_name": "Python 3",
      "language": "python",
      "name": "python3"
    },
    "language_info": {
      "name": "python",
      "version": "3.8.0 (tags/v3.8.0:fa919fd, Oct 14 2019, 19:21:23) [MSC v.1916 32 bit (Intel)]"
    },
    "orig_nbformat": 4,
    "vscode": {
      "interpreter": {
        "hash": "972b3bf27e332e87b5379f2791f6ef9dfc79c71018c370b0d7423235e20fe4d7"
      }
    },
    "colab": {
      "provenance": []
    }
  },
  "nbformat": 4,
  "nbformat_minor": 0
}